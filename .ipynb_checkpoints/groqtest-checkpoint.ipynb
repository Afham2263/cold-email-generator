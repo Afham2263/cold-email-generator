{
 "cells": [
  {
   "cell_type": "code",
   "execution_count": 3,
   "id": "d12e4af1",
   "metadata": {},
   "outputs": [
    {
     "name": "stdout",
     "output_type": "stream",
     "text": [
      "Note: you may need to restart the kernel to use updated packages.\n"
     ]
    },
    {
     "name": "stderr",
     "output_type": "stream",
     "text": [
      "  WARNING: The script distro.exe is installed in 'C:\\Users\\aqueel mohammed\\AppData\\Roaming\\Python\\Python39\\Scripts' which is not on PATH.\n",
      "  Consider adding this directory to PATH or, if you prefer to suppress this warning, use --no-warn-script-location.\n",
      "  WARNING: The script httpx.exe is installed in 'C:\\Users\\aqueel mohammed\\AppData\\Roaming\\Python\\Python39\\Scripts' which is not on PATH.\n",
      "  Consider adding this directory to PATH or, if you prefer to suppress this warning, use --no-warn-script-location.\n",
      "  WARNING: The script langsmith.exe is installed in 'C:\\Users\\aqueel mohammed\\AppData\\Roaming\\Python\\Python39\\Scripts' which is not on PATH.\n",
      "  Consider adding this directory to PATH or, if you prefer to suppress this warning, use --no-warn-script-location.\n"
     ]
    }
   ],
   "source": [
    "pip install -qU langchain-groq"
   ]
  },
  {
   "cell_type": "code",
   "execution_count": 20,
   "id": "55949078",
   "metadata": {},
   "outputs": [
    {
     "name": "stdout",
     "output_type": "stream",
     "text": [
      "(Verse 1)\n",
      "In the vineyards of Tuscany, where the sun dips low\n",
      "Grows a fruit so luscious, it's a sight to know\n",
      "Purple and plump, they hang from the vine\n",
      "Grapes of desire, oh how they make me shine\n",
      "\n",
      "(Chorus)\n",
      "Oh, grapes of love, you're my heart's delight\n",
      "In the evening, when the stars shine bright\n",
      "I'll savor your sweetness, and let out a sigh\n",
      "Oh, grapes of love, you're my heart's desire, tonight\n",
      "\n",
      "(Verse 2)\n",
      "In the cellar, the wine flows free\n",
      "Aged to perfection, just for me\n",
      "A sip, a taste, and I'm in a haze\n",
      "Of memories and love, in a bygone daze\n",
      "\n",
      "(Chorus)\n",
      "Oh, grapes of love, you're my heart's delight\n",
      "In the evening, when the stars shine bright\n",
      "I'll savor your sweetness, and let out a sigh\n",
      "Oh, grapes of love, you're my heart's desire, tonight\n",
      "\n",
      "(Bridge)\n",
      "In the still of night, I'll take a stroll\n",
      "Through the vineyards, where the grapes unfold\n",
      "Their secrets and stories, of love and of wine\n",
      "In the silence, I'll find my heart's rhyme\n",
      "\n",
      "(Verse 3)\n",
      "In the morning light, when the dew is gone\n",
      "The grapes will ripen, and their beauty will be shown\n",
      "In the harvest, when the grapes are picked\n",
      "I'll be there, with a heart that's quick\n",
      "\n",
      "(Chorus)\n",
      "Oh, grapes of love, you're my heart's delight\n",
      "In the evening, when the stars shine bright\n",
      "I'll savor your sweetness, and let out a sigh\n",
      "Oh, grapes of love, you're my heart's desire, tonight\n",
      "\n",
      "(Outro)\n",
      "So here's to the grapes, and the love they bring\n",
      "In the evening, when the stars sing\n",
      "I'll raise a glass, to the fruit of the vine\n",
      "Oh, grapes of love, you're forever mine.\n",
      "\n",
      "Musical Notes:\n",
      "- Tempo: Moderate, around 96 BPM\n",
      "- Time signature: 4/4\n",
      "- Key: C Major\n",
      "- Instruments: Piano, Double Bass, Drums, Saxophone, and a String Section\n",
      "- Vocal style: Smooth, velvety, and emotive, with a hint of a growl, reminiscent of Frank Sinatra's signature style.\n"
     ]
    }
   ],
   "source": [
    "from langchain_groq import ChatGroq\n",
    "\n",
    "llm = ChatGroq(\n",
    "    temperature=0,\n",
    "    groq_api_key='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',\n",
    "    model_name=\"llama-3.1-70b-versatile\"\n",
    "    # other params...\n",
    ")\n",
    "\n",
    "response = llm.invoke(\"write a song about grapes,frank sinatara style\")\n",
    "print(response.content)"
   ]
  },
  {
   "cell_type": "code",
   "execution_count": null,
   "id": "d98ad9c1",
   "metadata": {},
   "outputs": [],
   "source": []
  },
  {
   "cell_type": "code",
   "execution_count": null,
   "id": "b6326149",
   "metadata": {},
   "outputs": [],
   "source": []
  }
 ],
 "metadata": {
  "kernelspec": {
   "display_name": "Python 3 (ipykernel)",
   "language": "python",
   "name": "python3"
  },
  "language_info": {
   "codemirror_mode": {
    "name": "ipython",
    "version": 3
   },
   "file_extension": ".py",
   "mimetype": "text/x-python",
   "name": "python",
   "nbconvert_exporter": "python",
   "pygments_lexer": "ipython3",
   "version": "3.9.13"
  }
 },
 "nbformat": 4,
 "nbformat_minor": 5
}
